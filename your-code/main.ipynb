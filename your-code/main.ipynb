{
  "cells": [
    {
      "cell_type": "markdown",
      "metadata": {
        "id": "mAYF3l9gA1XD"
      },
      "source": [
        "# List Comprehensions\n",
        "\n",
        "Complete the following set of exercises to solidify your knowledge of list comprehensions."
      ]
    },
    {
      "cell_type": "code",
      "execution_count": null,
      "metadata": {
        "id": "KTSqgdk6A1XG"
      },
      "outputs": [],
      "source": [
        "import os"
      ]
    },
    {
      "cell_type": "markdown",
      "metadata": {
        "id": "SzZ-SCG6A1XI"
      },
      "source": [
        "#### 1. Use a list comprehension to create and print a list of consecutive integers starting with 1 and ending with 50."
      ]
    },
    {
      "cell_type": "code",
      "execution_count": null,
      "metadata": {
        "id": "1jhTuT7wA1XI",
        "outputId": "26112d48-87db-4844-8f28-f321c94cca56",
        "colab": {
          "base_uri": "https://localhost:8080/"
        }
      },
      "outputs": [
        {
          "output_type": "stream",
          "name": "stdout",
          "text": [
            "[1, 2, 3, 4, 5, 6, 7, 8, 9, 10, 11, 12, 13, 14, 15, 16, 17, 18, 19, 20, 21, 22, 23, 24, 25, 26, 27, 28, 29, 30, 31, 32, 33, 34, 35, 36, 37, 38, 39, 40, 41, 42, 43, 44, 45, 46, 47, 48, 49, 50]\n"
          ]
        }
      ],
      "source": [
        "#your code here\n",
        "consecutive_integers = [i for i in range(1, 51)]\n",
        "print(consecutive_integers)"
      ]
    },
    {
      "cell_type": "markdown",
      "metadata": {
        "id": "IrhJsbvIA1XI"
      },
      "source": [
        "#### 2. Use a list comprehension to create and print a list of even numbers starting with 2 and ending with 200."
      ]
    },
    {
      "cell_type": "code",
      "execution_count": null,
      "metadata": {
        "id": "Ml8iRLvCA1XJ",
        "outputId": "136bd014-97c3-40ae-f3fb-b39d2b0958ce",
        "colab": {
          "base_uri": "https://localhost:8080/"
        }
      },
      "outputs": [
        {
          "output_type": "stream",
          "name": "stdout",
          "text": [
            "[2, 4, 6, 8, 10, 12, 14, 16, 18, 20, 22, 24, 26, 28, 30, 32, 34, 36, 38, 40, 42, 44, 46, 48, 50, 52, 54, 56, 58, 60, 62, 64, 66, 68, 70, 72, 74, 76, 78, 80, 82, 84, 86, 88, 90, 92, 94, 96, 98, 100, 102, 104, 106, 108, 110, 112, 114, 116, 118, 120, 122, 124, 126, 128, 130, 132, 134, 136, 138, 140, 142, 144, 146, 148, 150, 152, 154, 156, 158, 160, 162, 164, 166, 168, 170, 172, 174, 176, 178, 180, 182, 184, 186, 188, 190, 192, 194, 196, 198, 200]\n"
          ]
        }
      ],
      "source": [
        "#your code here\n",
        "even_numbers = [i for i in range(2, 201) if i % 2 == 0]\n",
        "print(even_numbers)"
      ]
    },
    {
      "cell_type": "markdown",
      "metadata": {
        "id": "fFQYs8IoA1XJ"
      },
      "source": [
        "#### 3. Use a list comprehension to create and print a list containing all elements of the 10 x 4 array below."
      ]
    },
    {
      "cell_type": "code",
      "execution_count": null,
      "metadata": {
        "id": "467r4xHAA1XJ"
      },
      "outputs": [],
      "source": [
        "a = [[0.84062117, 0.48006452, 0.7876326 , 0.77109654],\n",
        "       [0.44409793, 0.09014516, 0.81835917, 0.87645456],\n",
        "       [0.7066597 , 0.09610873, 0.41247947, 0.57433389],\n",
        "       [0.29960807, 0.42315023, 0.34452557, 0.4751035 ],\n",
        "       [0.17003563, 0.46843998, 0.92796258, 0.69814654],\n",
        "       [0.41290051, 0.19561071, 0.16284783, 0.97016248],\n",
        "       [0.71725408, 0.87702738, 0.31244595, 0.76615487],\n",
        "       [0.20754036, 0.57871812, 0.07214068, 0.40356048],\n",
        "       [0.12149553, 0.53222417, 0.9976855 , 0.12536346],\n",
        "       [0.80930099, 0.50962849, 0.94555126, 0.33364763]];"
      ]
    },
    {
      "cell_type": "code",
      "execution_count": null,
      "metadata": {
        "id": "iDt9OC1IA1XK",
        "outputId": "a4cc4c56-9075-4720-fe2d-78d7e788815e",
        "colab": {
          "base_uri": "https://localhost:8080/"
        }
      },
      "outputs": [
        {
          "output_type": "stream",
          "name": "stdout",
          "text": [
            "[0.84062117, 0.48006452, 0.7876326, 0.77109654, 0.44409793, 0.09014516, 0.81835917, 0.87645456, 0.7066597, 0.09610873, 0.41247947, 0.57433389, 0.29960807, 0.42315023, 0.34452557, 0.4751035, 0.17003563, 0.46843998, 0.92796258, 0.69814654, 0.41290051, 0.19561071, 0.16284783, 0.97016248, 0.71725408, 0.87702738, 0.31244595, 0.76615487, 0.20754036, 0.57871812, 0.07214068, 0.40356048, 0.12149553, 0.53222417, 0.9976855, 0.12536346, 0.80930099, 0.50962849, 0.94555126, 0.33364763]\n"
          ]
        }
      ],
      "source": [
        "#your code here\n",
        "flattened_list = [item for sublist in a for item in sublist]\n",
        "print(flattened_list)"
      ]
    },
    {
      "cell_type": "markdown",
      "source": [
        "Explanation:\n",
        "\n",
        "  * Outer loop: for sublist in a iterates through each row (which is a sublist of a).\n",
        "  * Inner loop: for item in sublist iterates through each element in the current sublist (row).\n",
        "  * This creates a flattened list containing all the elements of the 10 x 4 array a."
      ],
      "metadata": {
        "id": "YugGHyuLaEyA"
      }
    },
    {
      "cell_type": "markdown",
      "metadata": {
        "id": "3Ju814YMA1XK"
      },
      "source": [
        "#### 4. Add a condition to the list comprehension above so that only values greater than or equal to 0.5 are printed."
      ]
    },
    {
      "cell_type": "code",
      "execution_count": null,
      "metadata": {
        "id": "gUJAvRMoA1XK",
        "outputId": "16db8b27-f544-4c3a-f23f-3fbd17170f20",
        "colab": {
          "base_uri": "https://localhost:8080/"
        }
      },
      "outputs": [
        {
          "output_type": "stream",
          "name": "stdout",
          "text": [
            "[0.84062117, 0.7876326, 0.77109654, 0.81835917, 0.87645456, 0.7066597, 0.57433389, 0.92796258, 0.69814654, 0.97016248, 0.71725408, 0.87702738, 0.76615487, 0.57871812, 0.53222417, 0.9976855, 0.80930099, 0.50962849, 0.94555126]\n"
          ]
        }
      ],
      "source": [
        "#your code here\n",
        "filtered_list = [item for sublist in a for item in sublist if item >= 0.5]\n",
        "print(filtered_list)"
      ]
    },
    {
      "cell_type": "markdown",
      "metadata": {
        "id": "V2Ss43lhA1XK"
      },
      "source": [
        "#### 5. Use a list comprehension to create and print a list containing all elements of the 5 x 2 x 3 array below."
      ]
    },
    {
      "cell_type": "code",
      "execution_count": null,
      "metadata": {
        "id": "BqlZ3STvA1XK"
      },
      "outputs": [],
      "source": [
        "b = [[[0.55867166, 0.06210792, 0.08147297],\n",
        "        [0.82579068, 0.91512478, 0.06833034]],\n",
        "\n",
        "       [[0.05440634, 0.65857693, 0.30296619],\n",
        "        [0.06769833, 0.96031863, 0.51293743]],\n",
        "\n",
        "       [[0.09143215, 0.71893382, 0.45850679],\n",
        "        [0.58256464, 0.59005654, 0.56266457]],\n",
        "\n",
        "       [[0.71600294, 0.87392666, 0.11434044],\n",
        "        [0.8694668 , 0.65669313, 0.10708681]],\n",
        "\n",
        "       [[0.07529684, 0.46470767, 0.47984544],\n",
        "        [0.65368638, 0.14901286, 0.23760688]]];"
      ]
    },
    {
      "cell_type": "code",
      "execution_count": null,
      "metadata": {
        "id": "8xn9OG8bA1XL",
        "outputId": "fd30a4de-f141-4df3-dea3-56707866bc4b",
        "colab": {
          "base_uri": "https://localhost:8080/"
        }
      },
      "outputs": [
        {
          "output_type": "stream",
          "name": "stdout",
          "text": [
            "[0.55867166, 0.06210792, 0.08147297, 0.82579068, 0.91512478, 0.06833034, 0.05440634, 0.65857693, 0.30296619, 0.06769833, 0.96031863, 0.51293743, 0.09143215, 0.71893382, 0.45850679, 0.58256464, 0.59005654, 0.56266457, 0.71600294, 0.87392666, 0.11434044, 0.8694668, 0.65669313, 0.10708681, 0.07529684, 0.46470767, 0.47984544, 0.65368638, 0.14901286, 0.23760688]\n"
          ]
        }
      ],
      "source": [
        "#your code here\n",
        "flattened_list_b = [item for sublist1 in b for sublist2 in sublist1 for item in sublist2]\n",
        "print(flattened_list_b)"
      ]
    },
    {
      "cell_type": "markdown",
      "source": [
        "Explanation:\n",
        "\n",
        "* Outer loop: for sublist1 in b iterates through each of the 5 subarrays (the first dimension).\n",
        "* Middle loop: for sublist2 in sublist1 iterates through the 2 subarrays inside each of the 5 subarrays (the second dimension).\n",
        "* Inner loop: for item in sublist2 iterates through the 3 elements in each sublist (the third dimension).\n",
        "* This results in a flattened list containing all the elements of the 5 x 2 x 3 array b."
      ],
      "metadata": {
        "id": "vAfeWTr1bP1a"
      }
    },
    {
      "cell_type": "markdown",
      "metadata": {
        "id": "sjy7VCDsA1XL"
      },
      "source": [
        "#### 6. Add a condition to the list comprehension above so that the last value in each subarray is printed, but only if it is less than or equal to 0.5."
      ]
    },
    {
      "cell_type": "code",
      "execution_count": null,
      "metadata": {
        "id": "GHWKgyT5A1XL",
        "outputId": "304bebef-b0f5-4613-fcc7-cb15a6b628ec",
        "colab": {
          "base_uri": "https://localhost:8080/"
        }
      },
      "outputs": [
        {
          "output_type": "stream",
          "name": "stdout",
          "text": [
            "[0.08147297, 0.06833034, 0.30296619, 0.45850679, 0.11434044, 0.10708681, 0.47984544, 0.23760688]\n"
          ]
        }
      ],
      "source": [
        "#your code here\n",
        "filtered_last_elements = [sublist2[-1] for sublist1 in b for sublist2 in sublist1 if sublist2[-1] <= 0.5]\n",
        "print(filtered_last_elements)"
      ]
    },
    {
      "cell_type": "markdown",
      "source": [
        "Explanation:\n",
        "\n",
        "* Outer loop: for sublist 1 in b itierates over the 2D arrays in b (the first dimension)\n",
        "* Inner loop: for sublist2 in sublist1 iterates over the 1D subarrays inside each 2D array (second dimension).\n",
        "* Condition: if sublist2[-1] <= 0.5 ensures that only the last element in each sublist (i.e., sublist2[-1]) is considered if it is less than or equal to 0.5.\n",
        "* Result: The list comprehension collects only the last elements that meet the condition."
      ],
      "metadata": {
        "id": "2K3axEIecG4Y"
      }
    },
    {
      "cell_type": "markdown",
      "metadata": {
        "id": "qIxybxZFA1XL"
      },
      "source": [
        "### Bonus"
      ]
    },
    {
      "cell_type": "markdown",
      "metadata": {
        "id": "2ZZd23B4A1XM"
      },
      "source": [
        "Try to solve these katas using list comprehensions."
      ]
    },
    {
      "cell_type": "markdown",
      "metadata": {
        "id": "-RUJBFbjA1XM"
      },
      "source": [
        "**Easy**\n",
        "- [Insert values](https://www.codewars.com/kata/invert-values)\n",
        "- [Sum Square(n)](https://www.codewars.com/kata/square-n-sum)\n",
        "- [Digitize](https://www.codewars.com/kata/digitize)\n",
        "- [List filtering](https://www.codewars.com/kata/list-filtering)\n",
        "- [Arithmetic list](https://www.codewars.com/kata/541da001259d9ca85d000688)\n",
        "\n",
        "**Medium**\n",
        "- [Multiples of 3 or 5](https://www.codewars.com/kata/514b92a657cdc65150000006)\n",
        "- [Count of positives / sum of negatives](https://www.codewars.com/kata/count-of-positives-slash-sum-of-negatives)\n",
        "- [Categorize new member](https://www.codewars.com/kata/5502c9e7b3216ec63c0001aa)\n",
        "\n",
        "**Advanced**\n",
        "- [Queue time counter](https://www.codewars.com/kata/queue-time-counter)"
      ]
    },
    {
      "cell_type": "markdown",
      "source": [
        "# **Invert values** (easy)\n",
        "\n",
        "Given a set of numbers, return the additive inverse of each. Each positive becomes negatives, and the negatives become positives.\n",
        "\n",
        "[1, 2, 3, 4, 5] --> [-1, -2, -3, -4, -5]\n",
        "[1, -2, 3, -4, 5] --> [-1, 2, -3, 4, -5]\n",
        "[] --> []"
      ],
      "metadata": {
        "id": "K9Ln1XfEjCP_"
      }
    },
    {
      "cell_type": "markdown",
      "source": [
        "# **Square(n) Sum** (easy)\n",
        "\n",
        "Complete the square sum function so that it squares each number passed into it and then sums the results together.\n",
        "\n",
        "For example, for [1, 2, 2] it should return 9 because\n",
        "$1^2+2^2+2^2=9$."
      ],
      "metadata": {
        "id": "eVQYgX8UjMMG"
      }
    },
    {
      "cell_type": "markdown",
      "source": [
        "# **Digitize** (easy)\n",
        "\n",
        "Given a non-negative integer, return an array / a list of the individual digits in order.\n",
        "\n",
        "**Examples:**\n",
        "\n",
        "123 => [1,2,3]\n",
        "\n",
        "1 => [1]\n",
        "\n",
        "8675309 => [8,6,7,5,3,0,9]\n"
      ],
      "metadata": {
        "id": "ju-p1K1_kBaw"
      }
    },
    {
      "cell_type": "markdown",
      "source": [
        "# **List Filtering** (easy)\n",
        "\n",
        "In this kata you will create a function that takes a list of non-negative integers and strings and returns a new list with the strings filtered out.\n",
        "\n",
        "**Example**\n",
        "\n",
        "filter_list([1,2,'a','b']) == [1,2]\n",
        "filter_list([1,'a','b',0,15]) == [1,0,15]\n",
        "filter_list([1,2,'aasf','1','123',123]) == [1,2,123]"
      ],
      "metadata": {
        "id": "UD35BvOYkPNv"
      }
    },
    {
      "cell_type": "markdown",
      "source": [
        "# **Arithmetic List!** (easy)\n",
        "\n",
        "In this kata, you will write an arithmetic list which is basically a list that contains consecutive terms in the sequence.\n",
        "You will be given three parameters :\n",
        "\n",
        "* first the first term in the sequence\n",
        "* c the constant that you are going to ADD ( since it is an arithmetic sequence...)\n",
        "* l the number of terms that should be returned"
      ],
      "metadata": {
        "id": "HaUOydC1kVf1"
      }
    },
    {
      "cell_type": "markdown",
      "source": [
        "# **Multiples of 3 or 5** (medium)\n",
        "\n",
        "If we list all the natural numbers below 10 that are multiples of 3 or 5, we get 3, 5, 6 and 9. The sum of these multiples is 23.\n",
        "\n",
        "Finish the solution so that it returns the sum of all the multiples of 3 or 5 below the number passed in.\n",
        "\n",
        "Additionally, if the number is negative, return 0.\n",
        "\n",
        "Note: If the number is a multiple of both 3 and 5, only count it once."
      ],
      "metadata": {
        "id": "C0mirZqpkhSF"
      }
    },
    {
      "cell_type": "markdown",
      "source": [
        "# **Count of positives / sum of negatives** (medium)\n",
        "\n",
        "Given an array of integers.\n",
        "\n",
        "Return an array, where the first element is the count of positives numbers and the second element is sum of negative numbers. 0 is neither positive nor negative.\n",
        "\n",
        "If the input is an empty array or is null, return an empty array.\n",
        "\n",
        "**Example**\n",
        "\n",
        "For input [1, 2, 3, 4, 5, 6, 7, 8, 9, 10, -11, -12, -13, -14, -15], you should return [10, -65]."
      ],
      "metadata": {
        "id": "yz9_UtgZln8h"
      }
    },
    {
      "cell_type": "markdown",
      "source": [
        "# **Categorize New Member** (medium)\n",
        "\n",
        "The Western Suburbs Croquet Club has two categories of membership, Senior and Open. They would like your help with an application form that will tell prospective members which category they will be placed.\n",
        "\n",
        "To be a senior, a member must be at least 55 years old and have a handicap greater than 7. In this croquet club, handicaps range from -2 to +26; the better the player the lower the handicap.\n",
        "\n",
        "**Input**\n",
        "\n",
        "Input will consist of a list of pairs. Each pair contains information for a single potential member. Information consists of an integer for the person's age and an integer for the person's handicap.\n",
        "\n",
        "**Output**\n",
        "\n",
        "Output will consist of a list of string values (in Haskell and C: Open or Senior) stating whether the respective member is to be placed in the senior or open category.\n",
        "\n",
        "**Example**\n",
        "\n",
        "input =  [[18, 20], [45, 2], [61, 12], [37, 6], [21, 21], [78, 9]]\n",
        "output = [\"Open\", \"Open\", \"Senior\", \"Open\", \"Open\", \"Senior\"]"
      ],
      "metadata": {
        "id": "a2AGY6qwl2wl"
      }
    },
    {
      "cell_type": "markdown",
      "source": [
        "# **Queue time counter** (advanced)\n",
        "\n",
        "You managed to send your friend to queue for tickets in your stead, but there is a catch: he will get there only if you tell him how much that is going to take. And everybody can only take one ticket at a time, then they go back in the last position of the queue if they need more (or go home if they are fine).\n",
        "\n",
        "Each ticket takes one minutes to emit, the queue is well disciplined, Brit-style, and so it moves smoothly, with no waste of time.\n",
        "\n",
        "You will be given an array/list/vector with all the people queuing and the initial position of your buddy, so for example, knowing that your friend is in the third position (that we will consider equal to the index, 2 (3 in COBOL): he is the guy that wants 3 tickets!) and the initial queue is [2, 5, 3, 4, 6].\n",
        "\n",
        "The first dude gets his ticket and the queue goes now like this [5, 3, 4, 6, 1], then [3, 4, 6, 1, 4] and so on. In the end, our buddy will be queuing for 12 minutes, true story!\n",
        "\n",
        "Build a function to compute it, resting assured that only positive integers are going to be there and you will be always given a valid index; but we also want to go to pretty popular events, so be ready for big queues with people getting plenty of tickets."
      ],
      "metadata": {
        "id": "bxlS5Oav26pQ"
      }
    }
  ],
  "metadata": {
    "kernelspec": {
      "display_name": "Python 3 (ipykernel)",
      "language": "python",
      "name": "python3"
    },
    "language_info": {
      "codemirror_mode": {
        "name": "ipython",
        "version": 3
      },
      "file_extension": ".py",
      "mimetype": "text/x-python",
      "name": "python",
      "nbconvert_exporter": "python",
      "pygments_lexer": "ipython3",
      "version": "3.9.13"
    },
    "vscode": {
      "interpreter": {
        "hash": "aee8b7b246df8f9039afb4144a1f6fd8d2ca17a180786b69acc140d282b71a49"
      }
    },
    "colab": {
      "provenance": []
    }
  },
  "nbformat": 4,
  "nbformat_minor": 0
}