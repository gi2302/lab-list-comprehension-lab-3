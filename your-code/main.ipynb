{
 "cells": [
  {
   "cell_type": "markdown",
   "metadata": {
    "id": "mAYF3l9gA1XD"
   },
   "source": [
    "# List Comprehensions\n",
    "\n",
    "Complete the following set of exercises to solidify your knowledge of list comprehensions."
   ]
  },
  {
   "cell_type": "code",
   "execution_count": 3,
   "metadata": {
    "id": "KTSqgdk6A1XG"
   },
   "outputs": [],
   "source": [
    "import os"
   ]
  },
  {
   "cell_type": "markdown",
   "metadata": {
    "id": "SzZ-SCG6A1XI"
   },
   "source": [
    "#### 1. Use a list comprehension to create and print a list of consecutive integers starting with 1 and ending with 50."
   ]
  },
  {
   "cell_type": "code",
   "execution_count": 5,
   "metadata": {
    "colab": {
     "base_uri": "https://localhost:8080/"
    },
    "id": "1jhTuT7wA1XI",
    "outputId": "26112d48-87db-4844-8f28-f321c94cca56"
   },
   "outputs": [
    {
     "name": "stdout",
     "output_type": "stream",
     "text": [
      "Consecutive Integers from 1 to 50: [1, 2, 3, 4, 5, 6, 7, 8, 9, 10, 11, 12, 13, 14, 15, 16, 17, 18, 19, 20, 21, 22, 23, 24, 25, 26, 27, 28, 29, 30, 31, 32, 33, 34, 35, 36, 37, 38, 39, 40, 41, 42, 43, 44, 45, 46, 47, 48, 49, 50]\n"
     ]
    }
   ],
   "source": [
    "#your code here\n",
    "\n",
    "# Create a list of consecutive integers from 1 to 50\n",
    "consecutive_integers = [i for i in range(1, 51)]\n",
    "print(\"Consecutive Integers from 1 to 50:\", consecutive_integers)"
   ]
  },
  {
   "cell_type": "markdown",
   "metadata": {},
   "source": [
    "**Explanation:**\n",
    "- This code generates a list of consecutive integers starting from 1 and ending at 50.\n",
    "- The `range(1, 51)` function is used to create a sequence of numbers from 1 to 50 (inclusive of 1 and exclusive of 51).\n",
    "- A **list comprehension** is used to iterate through this range and create a list of these integers.\n",
    "- The resulting list is stored in the variable `consecutive_integers` and printed."
   ]
  },
  {
   "cell_type": "markdown",
   "metadata": {
    "id": "IrhJsbvIA1XI"
   },
   "source": [
    "#### 2. Use a list comprehension to create and print a list of even numbers starting with 2 and ending with 200."
   ]
  },
  {
   "cell_type": "code",
   "execution_count": 8,
   "metadata": {
    "colab": {
     "base_uri": "https://localhost:8080/"
    },
    "id": "Ml8iRLvCA1XJ",
    "outputId": "136bd014-97c3-40ae-f3fb-b39d2b0958ce"
   },
   "outputs": [
    {
     "name": "stdout",
     "output_type": "stream",
     "text": [
      "[2, 4, 6, 8, 10, 12, 14, 16, 18, 20, 22, 24, 26, 28, 30, 32, 34, 36, 38, 40, 42, 44, 46, 48, 50, 52, 54, 56, 58, 60, 62, 64, 66, 68, 70, 72, 74, 76, 78, 80, 82, 84, 86, 88, 90, 92, 94, 96, 98, 100, 102, 104, 106, 108, 110, 112, 114, 116, 118, 120, 122, 124, 126, 128, 130, 132, 134, 136, 138, 140, 142, 144, 146, 148, 150, 152, 154, 156, 158, 160, 162, 164, 166, 168, 170, 172, 174, 176, 178, 180, 182, 184, 186, 188, 190, 192, 194, 196, 198, 200]\n"
     ]
    }
   ],
   "source": [
    "#your code here\n",
    "\n",
    "# Create a list of even numbers from 2 to 200\n",
    "even_numbers = [i for i in range(2, 201) if i % 2 == 0]\n",
    "print(even_numbers)"
   ]
  },
  {
   "cell_type": "markdown",
   "metadata": {},
   "source": [
    "**Explanation:**\n",
    "- This code generates a list of even numbers starting from 2 and ending at 200.\n",
    "- The `range(2, 201)` function creates a sequence of numbers from 2 to 200 (inclusive of 2 and exclusive of 201).\n",
    "- A **list comprehension** is used to iterate through this range, and the condition `if i % 2 == 0` ensures that only even numbers are included in the list.\n",
    "- The resulting list is stored in the variable `even_numbers` and printed."
   ]
  },
  {
   "cell_type": "code",
   "execution_count": 10,
   "metadata": {},
   "outputs": [
    {
     "name": "stdout",
     "output_type": "stream",
     "text": [
      "Even Numbers from 2 to 200: [2, 4, 6, 8, 10, 12, 14, 16, 18, 20, 22, 24, 26, 28, 30, 32, 34, 36, 38, 40, 42, 44, 46, 48, 50, 52, 54, 56, 58, 60, 62, 64, 66, 68, 70, 72, 74, 76, 78, 80, 82, 84, 86, 88, 90, 92, 94, 96, 98, 100, 102, 104, 106, 108, 110, 112, 114, 116, 118, 120, 122, 124, 126, 128, 130, 132, 134, 136, 138, 140, 142, 144, 146, 148, 150, 152, 154, 156, 158, 160, 162, 164, 166, 168, 170, 172, 174, 176, 178, 180, 182, 184, 186, 188, 190, 192, 194, 196, 198, 200]\n"
     ]
    }
   ],
   "source": [
    "#your code here\n",
    "\n",
    "# Create a list of even numbers from 2 to 200\n",
    "even_numbers = [i for i in range(2, 201, 2)]\n",
    "print(\"Even Numbers from 2 to 200:\", even_numbers)"
   ]
  },
  {
   "cell_type": "markdown",
   "metadata": {},
   "source": [
    "**Explanation:**\n",
    "- This code generates a list of even numbers starting from 2 and ending at 200.\n",
    "- The `range(2, 201, 2)` function creates a sequence of numbers from 2 to 200 (inclusive of 2 and exclusive of 201), with a step of 2. This ensures that only even numbers are included.\n",
    "- A **list comprehension** is used to create the list directly from the range.\n",
    "- The resulting list is stored in the variable `even_numbers` and printed with a descriptive label."
   ]
  },
  {
   "cell_type": "markdown",
   "metadata": {
    "id": "fFQYs8IoA1XJ"
   },
   "source": [
    "#### 3. Use a list comprehension to create and print a list containing all elements of the 10 x 4 array below."
   ]
  },
  {
   "cell_type": "code",
   "execution_count": 13,
   "metadata": {
    "id": "467r4xHAA1XJ"
   },
   "outputs": [],
   "source": [
    "a = [[0.84062117, 0.48006452, 0.7876326 , 0.77109654],\n",
    "       [0.44409793, 0.09014516, 0.81835917, 0.87645456],\n",
    "       [0.7066597 , 0.09610873, 0.41247947, 0.57433389],\n",
    "       [0.29960807, 0.42315023, 0.34452557, 0.4751035 ],\n",
    "       [0.17003563, 0.46843998, 0.92796258, 0.69814654],\n",
    "       [0.41290051, 0.19561071, 0.16284783, 0.97016248],\n",
    "       [0.71725408, 0.87702738, 0.31244595, 0.76615487],\n",
    "       [0.20754036, 0.57871812, 0.07214068, 0.40356048],\n",
    "       [0.12149553, 0.53222417, 0.9976855 , 0.12536346],\n",
    "       [0.80930099, 0.50962849, 0.94555126, 0.33364763]];"
   ]
  },
  {
   "cell_type": "markdown",
   "metadata": {},
   "source": [
    "**Explanation of the 10x4 Array:**\n",
    "- The variable `a` is a **10x4 array**, which means it is a list containing 10 sublists (rows), and each sublist contains 4 elements (columns).\n",
    "- This structure represents a 2-dimensional array (matrix) with 10 rows and 4 columns.\n",
    "- For example:\n",
    "  - The first row is `[0.84062117, 0.48006452, 0.7876326, 0.77109654]`.\n",
    "  - The second row is `[0.44409793, 0.09014516, 0.81835917, 0.87645456]`.\n",
    "  - This pattern continues for all 10 rows."
   ]
  },
  {
   "cell_type": "code",
   "execution_count": 15,
   "metadata": {
    "colab": {
     "base_uri": "https://localhost:8080/"
    },
    "id": "iDt9OC1IA1XK",
    "outputId": "a4cc4c56-9075-4720-fe2d-78d7e788815e"
   },
   "outputs": [
    {
     "name": "stdout",
     "output_type": "stream",
     "text": [
      "Flattened List: [0.84062117, 0.48006452, 0.7876326, 0.77109654, 0.44409793, 0.09014516, 0.81835917, 0.87645456, 0.7066597, 0.09610873, 0.41247947, 0.57433389, 0.29960807, 0.42315023, 0.34452557, 0.4751035, 0.17003563, 0.46843998, 0.92796258, 0.69814654, 0.41290051, 0.19561071, 0.16284783, 0.97016248, 0.71725408, 0.87702738, 0.31244595, 0.76615487, 0.20754036, 0.57871812, 0.07214068, 0.40356048, 0.12149553, 0.53222417, 0.9976855, 0.12536346, 0.80930099, 0.50962849, 0.94555126, 0.33364763]\n"
     ]
    }
   ],
   "source": [
    "#your code here\n",
    "\n",
    "# Flatten a 10x4 array into a single list\n",
    "flattened_list = [item for sublist in a for item in sublist]\n",
    "print(\"Flattened List:\", flattened_list)"
   ]
  },
  {
   "cell_type": "markdown",
   "metadata": {},
   "source": [
    "**Explanation of the Code:**\n",
    "- This code flattens the **10x4 array** (`a`) into a **single list**.\n",
    "- The list comprehension `[item for sublist in a for item in sublist]` works as follows:\n",
    "  - The outer loop (`for sublist in a`) iterates through each row (sublist) in the 2D array.\n",
    "  - The inner loop (`for item in sublist`) iterates through each element in the current row.\n",
    "  - Each element is added to the new flattened list.\n",
    "- The result is a **1-dimensional list** containing all the elements of the original 2D array in row-major order."
   ]
  },
  {
   "cell_type": "markdown",
   "metadata": {
    "id": "3Ju814YMA1XK"
   },
   "source": [
    "#### 4. Add a condition to the list comprehension above so that only values greater than or equal to 0.5 are printed."
   ]
  },
  {
   "cell_type": "code",
   "execution_count": 18,
   "metadata": {
    "colab": {
     "base_uri": "https://localhost:8080/"
    },
    "id": "gUJAvRMoA1XK",
    "outputId": "16db8b27-f544-4c3a-f23f-3fbd17170f20"
   },
   "outputs": [
    {
     "name": "stdout",
     "output_type": "stream",
     "text": [
      "Filtered List (>= 0.5): [0.84062117, 0.7876326, 0.77109654, 0.81835917, 0.87645456, 0.7066597, 0.57433389, 0.92796258, 0.69814654, 0.97016248, 0.71725408, 0.87702738, 0.76615487, 0.57871812, 0.53222417, 0.9976855, 0.80930099, 0.50962849, 0.94555126]\n"
     ]
    }
   ],
   "source": [
    "#your code here\n",
    "\n",
    "# Filter values >= 0.5 from the flattened list\n",
    "filtered_list = [item for sublist in a for item in sublist if item >= 0.5]\n",
    "print(\"Filtered List (>= 0.5):\", filtered_list)"
   ]
  },
  {
   "cell_type": "markdown",
   "metadata": {},
   "source": [
    "**Explanation of the Code:**\n",
    "- This code filters the **flattened list** to include only values that are **greater than or equal to 0.5**.\n",
    "- The list comprehension `[item for sublist in a for item in sublist if item >= 0.5]` works as follows:\n",
    "  - The outer loop (`for sublist in a`) iterates through each row (sublist) in the 2D array.\n",
    "  - The inner loop (`for item in sublist`) iterates through each element in the current row.\n",
    "  - The condition `if item >= 0.5` ensures that only elements with a value of **0.5 or greater** are included in the new list.\n",
    "- The result is a **filtered list** containing only the qualifying elements from the original 2D array."
   ]
  },
  {
   "cell_type": "markdown",
   "metadata": {
    "id": "V2Ss43lhA1XK"
   },
   "source": [
    "#### 5. Use a list comprehension to create and print a list containing all elements of the 5 x 2 x 3 array below."
   ]
  },
  {
   "cell_type": "code",
   "execution_count": 21,
   "metadata": {
    "id": "BqlZ3STvA1XK"
   },
   "outputs": [],
   "source": [
    "b = [[[0.55867166, 0.06210792, 0.08147297],\n",
    "        [0.82579068, 0.91512478, 0.06833034]],\n",
    "\n",
    "       [[0.05440634, 0.65857693, 0.30296619],\n",
    "        [0.06769833, 0.96031863, 0.51293743]],\n",
    "\n",
    "       [[0.09143215, 0.71893382, 0.45850679],\n",
    "        [0.58256464, 0.59005654, 0.56266457]],\n",
    "\n",
    "       [[0.71600294, 0.87392666, 0.11434044],\n",
    "        [0.8694668 , 0.65669313, 0.10708681]],\n",
    "\n",
    "       [[0.07529684, 0.46470767, 0.47984544],\n",
    "        [0.65368638, 0.14901286, 0.23760688]]];"
   ]
  },
  {
   "cell_type": "markdown",
   "metadata": {},
   "source": [
    "**Explanation of the 5 x 2 x 3 Array:**\n",
    "- The variable `b` is a **5 x 2 x 3 array**, which means it is a **3-dimensional array** structured as follows:\n",
    "  - The **outermost dimension** has **5 elements** (e.g., 5 blocks or layers).\n",
    "  - Each of these 5 elements is a **2 x 3 array** (2 rows and 3 columns).\n",
    "  - For example:\n",
    "    - The first block is:\n",
    "      ```\n",
    "      [[0.55867166, 0.06210792, 0.08147297],\n",
    "       [0.82579068, 0.91512478, 0.06833034]]\n",
    "      ```\n",
    "    - The second block is:\n",
    "      ```\n",
    "      [[0.05440634, 0.65857693, 0.30296619],\n",
    "       [0.06769833, 0.96031863, 0.51293743]]\n",
    "      ```\n",
    "    - This pattern continues for all 5 blocks.\n",
    "- In total, the array contains **5 x 2 x 3 = 30 elements**."
   ]
  },
  {
   "cell_type": "code",
   "execution_count": 23,
   "metadata": {
    "colab": {
     "base_uri": "https://localhost:8080/"
    },
    "id": "8xn9OG8bA1XL",
    "outputId": "fd30a4de-f141-4df3-dea3-56707866bc4b"
   },
   "outputs": [
    {
     "name": "stdout",
     "output_type": "stream",
     "text": [
      "Flattened 5x2x3 List: [0.55867166, 0.06210792, 0.08147297, 0.82579068, 0.91512478, 0.06833034, 0.05440634, 0.65857693, 0.30296619, 0.06769833, 0.96031863, 0.51293743, 0.09143215, 0.71893382, 0.45850679, 0.58256464, 0.59005654, 0.56266457, 0.71600294, 0.87392666, 0.11434044, 0.8694668, 0.65669313, 0.10708681, 0.07529684, 0.46470767, 0.47984544, 0.65368638, 0.14901286, 0.23760688]\n"
     ]
    }
   ],
   "source": [
    "#your code here\n",
    "\n",
    "# Flatten a 5x2x3 array into a single list\n",
    "flattened_list_b = [item for sublist1 in b for sublist2 in sublist1 for item in sublist2]\n",
    "print(\"Flattened 5x2x3 List:\", flattened_list_b)"
   ]
  },
  {
   "cell_type": "markdown",
   "metadata": {
    "id": "vAfeWTr1bP1a"
   },
   "source": [
    "**Explanation of the Code:**\n",
    "- This code flattens the **5x2x3 array** (`b`) into a **single 1-dimensional list**.\n",
    "- The list comprehension `[item for sublist1 in b for sublist2 in sublist1 for item in sublist2]` works as follows:\n",
    "  - The **outer loop** (`for sublist1 in b`) iterates through each of the **5 blocks** in the outermost dimension.\n",
    "  - The **middle loop** (`for sublist2 in sublist1`) iterates through each of the **2 rows** within the current block.\n",
    "  - The **inner loop** (`for item in sublist2`) iterates through each of the **3 elements** in the current row.\n",
    "  - Each element is added to the new flattened list.\n",
    "- The result is a **1-dimensional list** containing all **30 elements** of the original 5x2x3 array, in the order they appear."
   ]
  },
  {
   "cell_type": "markdown",
   "metadata": {
    "id": "sjy7VCDsA1XL"
   },
   "source": [
    "#### 6. Add a condition to the list comprehension above so that the last value in each subarray is printed, but only if it is less than or equal to 0.5."
   ]
  },
  {
   "cell_type": "code",
   "execution_count": 26,
   "metadata": {
    "colab": {
     "base_uri": "https://localhost:8080/"
    },
    "id": "GHWKgyT5A1XL",
    "outputId": "304bebef-b0f5-4613-fcc7-cb15a6b628ec"
   },
   "outputs": [
    {
     "name": "stdout",
     "output_type": "stream",
     "text": [
      "Filtered Last Elements (<= 0.5): [0.08147297, 0.06833034, 0.30296619, 0.45850679, 0.11434044, 0.10708681, 0.47984544, 0.23760688]\n"
     ]
    }
   ],
   "source": [
    "#your code here\n",
    "\n",
    "# Filter the last element of each subarray if it is <= 0.5\n",
    "filtered_last_elements = [sublist2[-1] for sublist1 in b for sublist2 in sublist1 if sublist2[-1] <= 0.5]\n",
    "print(\"Filtered Last Elements (<= 0.5):\", filtered_last_elements)"
   ]
  },
  {
   "cell_type": "markdown",
   "metadata": {
    "id": "2K3axEIecG4Y"
   },
   "source": [
    "**Explanation of the Code:**\n",
    "- This code filters the **last element** of each subarray in the **5x2x3 array** (`b`) and includes it in a new list **only if it is less than or equal to 0.5**.\n",
    "- The list comprehension `[sublist2[-1] for sublist1 in b for sublist2 in sublist1 if sublist2[-1] <= 0.5]` works as follows:\n",
    "  - The **outer loop** (`for sublist1 in b`) iterates through each of the **5 blocks** in the outermost dimension.\n",
    "  - The **middle loop** (`for sublist2 in sublist1`) iterates through each of the **2 rows** within the current block.\n",
    "  - The condition `if sublist2[-1] <= 0.5` checks if the **last element** of the current row (`sublist2[-1]`) is less than or equal to 0.5.\n",
    "  - If the condition is met, the last element is added to the new list.\n",
    "- The result is a **filtered list** containing only the last elements of each subarray that satisfy the condition."
   ]
  },
  {
   "cell_type": "markdown",
   "metadata": {
    "id": "qIxybxZFA1XL"
   },
   "source": [
    "### Bonus"
   ]
  },
  {
   "cell_type": "markdown",
   "metadata": {
    "id": "2ZZd23B4A1XM"
   },
   "source": [
    "Try to solve these katas using list comprehensions."
   ]
  },
  {
   "cell_type": "markdown",
   "metadata": {
    "id": "-RUJBFbjA1XM"
   },
   "source": [
    "**Easy**\n",
    "- [Insert values](https://www.codewars.com/kata/invert-values)\n",
    "- [Sum Square(n)](https://www.codewars.com/kata/square-n-sum)\n",
    "- [Digitize](https://www.codewars.com/kata/digitize)\n",
    "- [List filtering](https://www.codewars.com/kata/list-filtering)\n",
    "- [Arithmetic list](https://www.codewars.com/kata/541da001259d9ca85d000688)\n",
    "\n",
    "**Medium**\n",
    "- [Multiples of 3 or 5](https://www.codewars.com/kata/514b92a657cdc65150000006)\n",
    "- [Count of positives / sum of negatives](https://www.codewars.com/kata/count-of-positives-slash-sum-of-negatives)\n",
    "- [Categorize new member](https://www.codewars.com/kata/5502c9e7b3216ec63c0001aa)\n",
    "\n",
    "**Advanced**\n",
    "- [Queue time counter](https://www.codewars.com/kata/queue-time-counter)"
   ]
  },
  {
   "cell_type": "markdown",
   "metadata": {
    "id": "K9Ln1XfEjCP_"
   },
   "source": [
    "# **Invert values** (easy)\n",
    "\n",
    "Given a set of numbers, return the additive inverse of each. Each positive becomes negatives, and the negatives become positives.\n",
    "``` python\n",
    "[1, 2, 3, 4, 5] --> [-1, -2, -3, -4, -5]\n",
    "[1, -2, 3, -4, 5] --> [-1, 2, -3, 4, -5]\n",
    "[] --> []\n",
    "```"
   ]
  },
  {
   "cell_type": "code",
   "execution_count": 32,
   "metadata": {},
   "outputs": [
    {
     "name": "stdout",
     "output_type": "stream",
     "text": [
      "Additive inverse [1, 2, 3, 4, 5]: [-1, -2, -3, -4, -5]\n",
      "Additive inverse [1, -2, 3, -4, 5]: [-1, 2, -3, 4, -5]\n",
      "Additive inverse []: []\n"
     ]
    }
   ],
   "source": [
    "def additive_inverse(numbers):\n",
    "    return [-num for num in numbers]\n",
    "\n",
    "if __name__ == \"__main__\":\n",
    "    print(\"Additive inverse [1, 2, 3, 4, 5]:\", additive_inverse([1, 2, 3, 4, 5]))\n",
    "    print(\"Additive inverse [1, -2, 3, -4, 5]:\", additive_inverse([1, -2, 3, -4, 5]))\n",
    "    print(\"Additive inverse []:\", additive_inverse([]))"
   ]
  },
  {
   "cell_type": "markdown",
   "metadata": {},
   "source": [
    "**Explanation of the Code:**\n",
    "- The function `additive_inverse` takes a list of numbers as input and returns a new list where each number is replaced by its **additive inverse** (i.e., the number with its sign flipped).\n",
    "- The list comprehension `[-num for num in numbers]` iterates through each number in the input list (`numbers`) and applies the operation `-num` to create the additive inverse.\n",
    "\n",
    "**What Does `if __name__ == \"__main__\":` Do?**\n",
    "- In Python, `__name__` is a special variable that tells you whether the script is being run directly or imported as a module.\n",
    "  - When you run the script directly, `__name__` is set to `\"__main__\"`.\n",
    "  - When the script is imported into another script, `__name__` is set to the name of the module (e.g., the filename without the `.py` extension).\n",
    "- The `if __name__ == \"__main__\":` block ensures that the code inside it **only runs when the script is executed directly**, not when it is imported as a module.\n",
    "  - This is useful for including test code or example usage that should only run when you're testing or running the script directly.\n",
    "\n",
    "**Example Usage:**\n",
    "- When you run the script directly, the `print` statements inside the `if __name__ == \"__main__\":` block will execute:\n",
    "  - `[1, 2, 3, 4, 5]` becomes `[-1, -2, -3, -4, -5]`.\n",
    "  - `[1, -2, 3, -4, 5]` becomes `[-1, 2, -3, 4, -5]`.\n",
    "  - An empty list `[]` remains `[]`.\n",
    "- If you import this script into another script, the `print` statements will **not run**, and you can safely use the `additive_inverse` function without side effects.\n",
    "\n",
    "**Key Points:**\n",
    "- The function works for both positive and negative numbers.\n",
    "- It handles edge cases, such as an empty list, gracefully.\n",
    "- Using `if __name__ == \"__main__\":` makes your code modular and reusable, as it separates the function definition from the example usage or test code."
   ]
  },
  {
   "cell_type": "markdown",
   "metadata": {
    "id": "eVQYgX8UjMMG"
   },
   "source": [
    "# **Square(n) Sum** (easy)\n",
    "\n",
    "Complete the square sum function so that it squares each number passed into it and then sums the results together.\n",
    "\n",
    "For example, for `[1, 2, 2]` it should return 9 because\n",
    "$1^2+2^2+2^2=9$."
   ]
  },
  {
   "cell_type": "code",
   "execution_count": 35,
   "metadata": {
    "id": "zWClyRqifhTd"
   },
   "outputs": [
    {
     "name": "stdout",
     "output_type": "stream",
     "text": [
      "Square Sum [1, 2, 2]: 9\n",
      "Square Sum [0, 3, 4, 5]: 50\n",
      "Square Sum [-1, -2, -3]: 14\n",
      "Square Sum []: 0\n"
     ]
    }
   ],
   "source": [
    "def square_sum(numbers):\n",
    "    return sum(num**2 for num in numbers)\n",
    "\n",
    "if __name__ == \"__main__\":\n",
    "    print(\"Square Sum [1, 2, 2]:\", square_sum([1, 2, 2]))\n",
    "    print(\"Square Sum [0, 3, 4, 5]:\", square_sum([0, 3, 4, 5]))\n",
    "    print(\"Square Sum [-1, -2, -3]:\", square_sum([-1, -2, -3]))\n",
    "    print(\"Square Sum []:\", square_sum([]))"
   ]
  },
  {
   "cell_type": "markdown",
   "metadata": {},
   "source": [
    "**Explanation of the Code:**\n",
    "- The function `square_sum` takes a list of numbers as input and returns the **sum of the squares** of those numbers.\n",
    "- The expression `num**2 for num in numbers` is a generator expression that calculates the square of each number in the list.\n",
    "- The `sum()` function adds up all the squared values and returns the result.\n",
    "\n",
    "**Example Usage:**\n",
    "- For the list `[1, 2, 2]`, the function calculates `1² + 2² + 2² = 1 + 4 + 4 = 9`.\n",
    "- For the list `[0, 3, 4, 5]`, the function calculates `0² + 3² + 4² + 5² = 0 + 9 + 16 + 25 = 50`.\n",
    "- For the list `[-1, -2, -3]`, the function calculates `(-1)² + (-2)² + (-3)² = 1 + 4 + 9 = 14`.\n",
    "\n",
    "**Key Points:**\n",
    "- The function works for both positive and negative numbers.\n",
    "- It handles edge cases, such as an empty list, gracefully (the sum of an empty list is `0`)."
   ]
  },
  {
   "cell_type": "markdown",
   "metadata": {
    "id": "ju-p1K1_kBaw"
   },
   "source": [
    "# **Digitize** (easy)\n",
    "\n",
    "Given a non-negative integer, return an array / a list of the individual digits in order.\n",
    "\n",
    "**Examples:**\n",
    "\n",
    "``` python\n",
    "123 => [1,2,3]\n",
    "\n",
    "1 => [1]\n",
    "\n",
    "8675309 => [8,6,7,5,3,0,9]\n",
    "```"
   ]
  },
  {
   "cell_type": "code",
   "execution_count": 38,
   "metadata": {
    "id": "2xrLlQf4fiJa"
   },
   "outputs": [
    {
     "name": "stdout",
     "output_type": "stream",
     "text": [
      "Digitize 123: [1, 2, 3]\n",
      "Digitize 1: [1]\n",
      "Digitize 8675309: [8, 6, 7, 5, 3, 0, 9]\n"
     ]
    }
   ],
   "source": [
    "def digitize(n):\n",
    "    return [int(digit) for digit in str(n)]\n",
    "\n",
    "if __name__ == \"__main__\":\n",
    "    print(\"Digitize 123:\", digitize(123))\n",
    "    print(\"Digitize 1:\", digitize(1))\n",
    "    print(\"Digitize 8675309:\", digitize(8675309))"
   ]
  },
  {
   "cell_type": "markdown",
   "metadata": {},
   "source": [
    "**Explanation of the Code:**\n",
    "- The function `digitize` takes a non-negative integer as input and returns a list of its **individual digits**.\n",
    "- The expression `str(n)` converts the integer `n` into a string, allowing iteration over each character (digit).\n",
    "- The list comprehension `[int(digit) for digit in str(n)]` converts each character back into an integer and adds it to the list.\n",
    "\n",
    "**Example Usage:**\n",
    "- For the number `123`, the function returns `[1, 2, 3]`.\n",
    "- For the number `1`, the function returns `[1]`.\n",
    "- For the number `8675309`, the function returns `[8, 6, 7, 5, 3, 0, 9]`.\n",
    "\n",
    "**Key Points:**\n",
    "- The function works for any non-negative integer, including `0` (which returns `[0]`).\n",
    "- It handles large numbers gracefully, as Python supports arbitrarily large integers."
   ]
  },
  {
   "cell_type": "markdown",
   "metadata": {
    "id": "UD35BvOYkPNv"
   },
   "source": [
    "# **List Filtering** (easy)\n",
    "\n",
    "In this kata you will create a function that takes a list of non-negative integers and strings and returns a new list with the strings filtered out.\n",
    "\n",
    "**Example**\n",
    "\n",
    "``` python\n",
    "filter_list([1,2,'a','b']) == [1,2]\n",
    "filter_list([1,'a','b',0,15]) == [1,0,15]\n",
    "filter_list([1,2,'aasf','1','123',123]) == [1,2,123]\n",
    "```"
   ]
  },
  {
   "cell_type": "code",
   "execution_count": 41,
   "metadata": {
    "id": "qeDVseAmfi6_"
   },
   "outputs": [
    {
     "name": "stdout",
     "output_type": "stream",
     "text": [
      "Filtered List [1, 2, 'a', 'b']: [1, 2]\n",
      "Filtered List [1, 'a', 'b', 0, 15]: [1, 0, 15]\n",
      "Filtered List [1, 2, 'aasf', '1', '123', 123]: [1, 2, 123]\n",
      "Filtered List ['a', 'b', 'c']: []\n",
      "Filtered List []: []\n"
     ]
    }
   ],
   "source": [
    "def filter_list(lst):\n",
    "    return [item for item in lst if isinstance(item, int)]\n",
    "\n",
    "if __name__ == \"__main__\":\n",
    "    print(\"Filtered List [1, 2, 'a', 'b']:\", filter_list([1, 2, 'a', 'b']))\n",
    "    print(\"Filtered List [1, 'a', 'b', 0, 15]:\", filter_list([1, 'a', 'b', 0, 15]))\n",
    "    print(\"Filtered List [1, 2, 'aasf', '1', '123', 123]:\", filter_list([1, 2, 'aasf', '1', '123', 123]))\n",
    "    print(\"Filtered List ['a', 'b', 'c']:\", filter_list(['a', 'b', 'c']))\n",
    "    print(\"Filtered List []:\", filter_list([]))"
   ]
  },
  {
   "cell_type": "markdown",
   "metadata": {},
   "source": [
    "**Explanation of the Code:**\n",
    "- The function `filter_list` takes a list (`lst`) as input and returns a new list containing only the **integer elements** from the input list.\n",
    "- The list comprehension `[item for item in lst if isinstance(item, int)]` works as follows:\n",
    "  - It iterates through each `item` in the input list (`lst`).\n",
    "  - The `isinstance(item, int)` function checks if the `item` is an integer.\n",
    "  - Only items that are integers are included in the new list.\n",
    "\n",
    "**Example Usage:**\n",
    "- For the list `[1, 2, 'a', 'b']`, the function returns `[1, 2]` (only integers are kept).\n",
    "- For the list `[1, 'a', 'b', 0, 15]`, the function returns `[1, 0, 15]`.\n",
    "- For the list `[1, 2, 'aasf', '1', '123', 123]`, the function returns `[1, 2, 123]`.\n",
    "- For the list `['a', 'b', 'c']`, the function returns `[]` (no integers in the list).\n",
    "- For an empty list `[]`, the function returns `[]`.\n",
    "\n",
    "**Key Points:**\n",
    "- The function filters out all non-integer elements, including strings, floats, and other data types.\n",
    "- It handles edge cases, such as an empty list, gracefully."
   ]
  },
  {
   "cell_type": "markdown",
   "metadata": {
    "id": "HaUOydC1kVf1"
   },
   "source": [
    "# **Arithmetic List!** (easy)\n",
    "\n",
    "In this kata, you will write an arithmetic list which is basically a list that contains consecutive terms in the sequence.\n",
    "You will be given three parameters :\n",
    "\n",
    "* `first` the first term in the sequence\n",
    "* `c` the constant that you are going to ADD ( since it is an arithmetic sequence...)\n",
    "* `l` the number of terms that should be returned"
   ]
  },
  {
   "cell_type": "code",
   "execution_count": 44,
   "metadata": {
    "id": "C7TodSL1fj1y"
   },
   "outputs": [
    {
     "name": "stdout",
     "output_type": "stream",
     "text": [
      "Arithmetic List (1, 2, 5): [1, 3, 5, 7, 9]\n",
      "Arithmetic List (10, -3, 4): [10, 7, 4, 1]\n",
      "Arithmetic List (0, 1, 10): [0, 1, 2, 3, 4, 5, 6, 7, 8, 9]\n"
     ]
    }
   ],
   "source": [
    "def arithmetic_list(first, c, l):\n",
    "    return [first + c * i for i in range(l)]\n",
    "\n",
    "if __name__ == \"__main__\":\n",
    "    # Example 1: Generate a sequence starting at 1, adding 2 each step, with 5 terms\n",
    "    print(\"Arithmetic List (1, 2, 5):\", arithmetic_list(1, 2, 5))\n",
    "    # Example 2: Generate a sequence starting at 10, subtracting 3 each step, with 4 terms\n",
    "    print(\"Arithmetic List (10, -3, 4):\", arithmetic_list(10, -3, 4))\n",
    "    # Example 3: Generate a sequence starting at 0, adding 1 each step, with 10 terms\n",
    "    print(\"Arithmetic List (0, 1, 10):\", arithmetic_list(0, 1, 10))"
   ]
  },
  {
   "cell_type": "markdown",
   "metadata": {},
   "source": [
    "**Explanation of the Code:**\n",
    "- The function `arithmetic_list` generates an **arithmetic sequence** (a sequence of numbers where each term increases or decreases by a constant difference).\n",
    "- It takes three arguments:\n",
    "  - `first`: The first term of the sequence.\n",
    "  - `c`: The common difference (the amount added to each term to get the next term).\n",
    "  - `l`: The number of terms in the sequence.\n",
    "- The list comprehension `[first + c * i for i in range(l)]` creates the sequence:\n",
    "  - `i` is the index of the term, starting from `0` and going up to `l-1`.\n",
    "  - For each `i`, the term is calculated as `first + c * i`.\n",
    "\n",
    "---\n",
    "\n",
    "### **Concrete Example: `arithmetic_list(1, 2, 5)`**\n",
    "Let’s break down how the function works for this specific example:\n",
    "\n",
    "1. **Arguments Passed:**\n",
    "   - `first = 1`: The first term of the sequence is `1`.\n",
    "   - `c = 2`: The common difference is `2` (each term increases by `2`).\n",
    "   - `l = 5`: The sequence will have `5` terms.\n",
    "\n",
    "2. **List Comprehension Execution:**\n",
    "   - The loop `for i in range(l)` will iterate over `i = 0, 1, 2, 3, 4` (since `range(5)` produces `[0, 1, 2, 3, 4]`).\n",
    "   - For each `i`, the term is calculated as `first + c * i`:\n",
    "     - When `i = 0`: `1 + 2 * 0 = 1`\n",
    "     - When `i = 1`: `1 + 2 * 1 = 3`\n",
    "     - When `i = 2`: `1 + 2 * 2 = 5`\n",
    "     - When `i = 3`: `1 + 2 * 3 = 7`\n",
    "     - When `i = 4`: `1 + 2 * 4 = 9`\n",
    "\n",
    "3. **Resulting List:**\n",
    "   - The list comprehension collects these terms into a list: `[1, 3, 5, 7, 9]`.\n",
    "\n",
    "---\n",
    "\n",
    "**Key Points:**\n",
    "- The function can generate both increasing and decreasing sequences, depending on the value of `c`.\n",
    "- It handles edge cases, such as `l = 0`, gracefully (returns an empty list).\n",
    "- The sequence is generated efficiently using a list comprehension."
   ]
  },
  {
   "cell_type": "markdown",
   "metadata": {
    "id": "C0mirZqpkhSF"
   },
   "source": [
    "# **Multiples of 3 or 5** (medium)\n",
    "\n",
    "If we list all the natural numbers below `10` that are multiples of `3` or `5`, we get `3`, `5`, `6` and `9`. The sum of these multiples is `23`.\n",
    "\n",
    "Finish the solution so that it returns the sum of all the multiples of `3` or `5` below the number passed in.\n",
    "\n",
    "Additionally, if the number is negative, return `0`.\n",
    "\n",
    "Note: If the number is a multiple of both `3` and `5`, only count it once."
   ]
  },
  {
   "cell_type": "code",
   "execution_count": 73,
   "metadata": {
    "id": "O2F06f8_fkuO"
   },
   "outputs": [
    {
     "name": "stdout",
     "output_type": "stream",
     "text": [
      "Sum of Multiples (10): 23\n",
      "Sum of Multiples (20): 78\n",
      "Sum of Multiples (-5): 0\n",
      "Sum of Multiples (0): 0\n"
     ]
    }
   ],
   "source": [
    "def sum_of_multiples(n):\n",
    "    return sum(x for x in range(1, n) if x % 3 == 0 or x % 5 == 0) if n > 0 else 0\n",
    "\n",
    "if __name__ == \"__main__\":\n",
    "    print(\"Sum of Multiples (10):\", sum_of_multiples(10))\n",
    "    print(\"Sum of Multiples (20):\", sum_of_multiples(20))\n",
    "    print(\"Sum of Multiples (-5):\", sum_of_multiples(-5))\n",
    "    print(\"Sum of Multiples (0):\", sum_of_multiples(0))  # Added test case for 0"
   ]
  },
  {
   "cell_type": "markdown",
   "metadata": {},
   "source": [
    "**Explanation of the Code:**\n",
    "- The function `sum_of_multiples` calculates the sum of all **natural numbers below `n`** that are multiples of `3` or `5`.\n",
    "- It uses a **generator expression** inside the `sum()` function to iterate through all numbers from `1` to `n-1` (`range(1, n)`).\n",
    "- The condition `if x % 3 == 0 or x % 5 == 0` ensures that only numbers divisible by `3` or `5` are included in the sum.\n",
    "- If `n` is less than or equal to `0`, the function returns `0` (as specified in the problem).\n",
    "\n",
    "**Example Usage:**\n",
    "1. **For `n = 10`:**\n",
    "   - Natural numbers below `10` are `[1, 2, 3, 4, 5, 6, 7, 8, 9]`.\n",
    "   - Multiples of `3` or `5` are `[3, 5, 6, 9]`.\n",
    "   - Their sum is `3 + 5 + 6 + 9 = 23`.\n",
    "   - Output: `23`.\n",
    "2. **For `n = 20`:**\n",
    "   - Natural numbers below `20` are `[1, 2, 3, ..., 19]`.\n",
    "   - Multiples of `3` or `5` are `[3, 5, 6, 9, 10, 12, 15, 18]`.\n",
    "   - Their sum is `3 + 5 + 6 + 9 + 10 + 12 + 15 + 18 = 78`.\n",
    "   - Output: `78`.\n",
    "3. **For `n = -5`:**\n",
    "   - Since `n` is negative, the function returns `0`.\n",
    "   - Output: `0`.\n",
    "4. **For `n = 0`:**\n",
    "   - Since `n` is `0`, there are no natural numbers below `0`, so the function returns `0`.\n",
    "   - Output: `0`.\n",
    "\n",
    "**Key Points:**\n",
    "- The function handles edge cases, such as negative numbers and `0`, gracefully.\n",
    "- It ensures that numbers divisible by both `3` and `5` (e.g., `15`) are counted only once.\n",
    "- The use of a generator expression makes the code concise and efficient.\n",
    "- The range starts from `1` to exclude `0`, as `0` is not a natural number."
   ]
  },
  {
   "cell_type": "markdown",
   "metadata": {
    "id": "yz9_UtgZln8h"
   },
   "source": [
    "# **Count of positives / sum of negatives** (medium)\n",
    "\n",
    "Given an array of integers.\n",
    "\n",
    "Return an array, where the first element is the count of positives numbers and the second element is sum of negative numbers. 0 is neither positive nor negative.\n",
    "\n",
    "If the input is an empty array or is null, return an empty array.\n",
    "\n",
    "**Example**\n",
    "\n",
    "For input `[1, 2, 3, 4, 5, 6, 7, 8, 9, 10, -11, -12, -13, -14, -15]`, you should return `[10, -65]`."
   ]
  },
  {
   "cell_type": "code",
   "execution_count": 86,
   "metadata": {
    "id": "bv7yBcn0gYc6"
   },
   "outputs": [
    {
     "name": "stdout",
     "output_type": "stream",
     "text": [
      "Input: [1, 2, 3, 4, 5, 6, 7, 8, 9, 10, -11, -12, -13, -14, -15] -> Result: [10, -65]\n",
      "Input: [] -> Result: []\n",
      "Input: None -> Result: []\n"
     ]
    }
   ],
   "source": [
    "def count_positives_sum_negatives(arr):\n",
    "    # Check if the input array is empty or null\n",
    "    if arr is None or not arr:\n",
    "        return []\n",
    "\n",
    "    # Initialize counters for positive and the sum of negative numbers\n",
    "    count_positives = 0\n",
    "    sum_negatives = 0\n",
    "\n",
    "    # Iterate through each element in the array\n",
    "    for num in arr:\n",
    "        if num > 0:\n",
    "            count_positives += 1\n",
    "        elif num < 0:\n",
    "            sum_negatives += num\n",
    "\n",
    "    # Return a list containing the count of positive numbers and the sum of negative numbers\n",
    "    return [count_positives, sum_negatives]\n",
    "\n",
    "if __name__ == \"__main__\":\n",
    "    # Test cases\n",
    "    input1 = [1, 2, 3, 4, 5, 6, 7, 8, 9, 10, -11, -12, -13, -14, -15]\n",
    "    input2 = []\n",
    "    input3 = None\n",
    "\n",
    "    result1 = count_positives_sum_negatives(input1)\n",
    "    result2 = count_positives_sum_negatives(input2)\n",
    "    result3 = count_positives_sum_negatives(input3)\n",
    "\n",
    "    # Print results with input arrays\n",
    "    print(f\"Input: {input1} -> Result: {result1}\")\n",
    "    print(f\"Input: {input2} -> Result: {result2}\")\n",
    "    print(f\"Input: {input3} -> Result: {result3}\")"
   ]
  },
  {
   "cell_type": "markdown",
   "metadata": {},
   "source": [
    "**Explanation of the Code:**\n",
    "- The function `count_positives_sum_negatives` takes an array of integers as input and returns a list where:\n",
    "  - The **first element** is the count of positive numbers.\n",
    "  - The **second element** is the sum of negative numbers.\n",
    "- The function handles edge cases:\n",
    "  - If the input array is `None` or empty, it returns an empty list.\n",
    "- The function iterates through each number in the array:\n",
    "  - If the number is greater than `0`, it increments the `count_positives` counter.\n",
    "  - If the number is less than `0`, it adds the number to `sum_negatives`.\n",
    "- The result is a list containing `[count_positives, sum_negatives]`.\n",
    "\n",
    "**Example Usage:**\n",
    "1. **For input `[1, 2, 3, 4, 5, 6, 7, 8, 9, 10, -11, -12, -13, -14, -15]`:**\n",
    "   - Positive numbers: `[1, 2, 3, 4, 5, 6, 7, 8, 9, 10]` → Count: `10`.\n",
    "   - Negative numbers: `[-11, -12, -13, -14, -15]` → Sum: `-65`.\n",
    "   - Output: `[10, -65]`.\n",
    "2. **For input `[]`:**\n",
    "   - The array is empty, so the function returns an empty list.\n",
    "   - Output: `[]`.\n",
    "3. **For input `None`:**\n",
    "   - The input is `None`, so the function returns an empty list.\n",
    "   - Output: `[]`.\n",
    "\n",
    "**Key Points:**\n",
    "- The function handles `None` and empty arrays gracefully.\n",
    "- It correctly identifies positive and negative numbers, ignoring `0` (as `0` is neither positive nor negative).\n",
    "- The use of a loop and conditional checks ensures the function works efficiently."
   ]
  },
  {
   "cell_type": "markdown",
   "metadata": {
    "id": "a2AGY6qwl2wl"
   },
   "source": [
    "# **Categorize New Member** (medium)\n",
    "\n",
    "The Western Suburbs Croquet Club has two categories of membership, Senior and Open. They would like your help with an application form that will tell prospective members which category they will be placed.\n",
    "\n",
    "To be a senior, a member must be at least `55` years old and have a handicap greater than `7`. In this croquet club, handicaps range from `-2` to `+26`; the better the player the lower the handicap.\n",
    "\n",
    "**Input**\n",
    "\n",
    "Input will consist of a list of pairs. Each pair contains information for a single potential member. Information consists of an integer for the person's age and an integer for the person's handicap.\n",
    "\n",
    "**Output**\n",
    "\n",
    "Output will consist of a list of string values (in Haskell and C: `Open` or `Senior`) stating whether the respective member is to be placed in the senior or open category.\n",
    "\n",
    "**Example**\n",
    "``` python\n",
    "input =  [[18, 20], [45, 2], [61, 12], [37, 6], [21, 21], [78, 9]]\n",
    "output = [\"Open\", \"Open\", \"Senior\", \"Open\", \"Open\", \"Senior\"]\n",
    "```"
   ]
  },
  {
   "cell_type": "code",
   "execution_count": 92,
   "metadata": {},
   "outputs": [
    {
     "name": "stdout",
     "output_type": "stream",
     "text": [
      "Input Data: [[18, 20], [45, 2], [61, 12], [37, 6], [21, 21], [78, 9]]\n",
      "Categorized Members: ['Open', 'Open', 'Senior', 'Open', 'Open', 'Senior']\n"
     ]
    }
   ],
   "source": [
    "def categorize_members(data):\n",
    "    # Validate input: ensure data is a list of pairs\n",
    "    if not isinstance(data, list) or not all(isinstance(member, list) and len(member) == 2 for member in data):\n",
    "        raise ValueError(\"Input must be a list of pairs [age, handicap].\")\n",
    "\n",
    "    # For each member in the input list, categorize them as 'Senior' or 'Open'\n",
    "    return [\n",
    "        \"Senior\" if age >= 55 and handicap > 7 else \"Open\"\n",
    "        for age, handicap in data\n",
    "    ]\n",
    "\n",
    "if __name__ == \"__main__\":\n",
    "    # Example usage\n",
    "    input_data = [[18, 20], [45, 2], [61, 12], [37, 6], [21, 21], [78, 9]]\n",
    "    result = categorize_members(input_data)\n",
    "\n",
    "    # Print input and output for clarity\n",
    "    print(\"Input Data:\", input_data)\n",
    "    print(\"Categorized Members:\", result)"
   ]
  },
  {
   "cell_type": "markdown",
   "metadata": {},
   "source": [
    "**Explanation of the Code:**\n",
    "- The function `categorize_members` takes a list of pairs as input, where each pair contains the `age` and `handicap` of a potential member.\n",
    "- It categorizes each member as either **\"Senior\"** or **\"Open\"** based on the following rules:\n",
    "  - A member is **\"Senior\"** if they are **at least 55 years old** and have a **handicap greater than 7**.\n",
    "  - Otherwise, the member is **\"Open\"**.\n",
    "- The function uses a **list comprehension** to iterate through the input data and apply the categorization logic.\n",
    "\n",
    "**Input Validation:**\n",
    "- The function checks if the input is valid before processing it:\n",
    "  - `if not isinstance(data, list)`: This checks if the input `data` is a **list**. If not, the input is invalid.\n",
    "  - `or not all(isinstance(member, list) and len(member) == 2 for member in data)`: This checks if every element in `data` is a **pair** (a list with exactly two elements: `[age, handicap]`).\n",
    "    - `isinstance(member, list)`: Ensures each element in `data` is a list.\n",
    "    - `len(member) == 2`: Ensures each list has exactly two elements.\n",
    "  - If the input fails either of these checks, the function raises a `ValueError` with the message: `\"Input must be a list of pairs [age, handicap].\"`\n",
    "\n",
    "**Example Usage:**\n",
    "- For the input `[[18, 20], [45, 2], [61, 12], [37, 6], [21, 21], [78, 9]]`:\n",
    "  - `[18, 20]`: Age < 55 → \"Open\"\n",
    "  - `[45, 2]`: Age < 55 → \"Open\"\n",
    "  - `[61, 12]`: Age >= 55 and handicap > 7 → \"Senior\"\n",
    "  - `[37, 6]`: Age < 55 → \"Open\"\n",
    "  - `[21, 21]`: Age < 55 → \"Open\"\n",
    "  - `[78, 9]`: Age >= 55 and handicap > 7 → \"Senior\"\n",
    "- The output is: `[\"Open\", \"Open\", \"Senior\", \"Open\", \"Open\", \"Senior\"]`.\n",
    "\n",
    "**Key Points:**\n",
    "- The function handles the categorization logic efficiently using a list comprehension.\n",
    "- It includes input validation to ensure the input is in the correct format.\n",
    "- The output is a list of strings indicating the category for each member."
   ]
  },
  {
   "cell_type": "markdown",
   "metadata": {
    "id": "bxlS5Oav26pQ"
   },
   "source": [
    "# **Queue time counter** (advanced)\n",
    "\n",
    "You managed to send your friend to queue for tickets in your stead, but there is a catch: he will get there only if you tell him how much that is going to take. And everybody can only take one ticket at a time, then they go back in the last position of the queue if they need more (or go home if they are fine).\n",
    "\n",
    "Each ticket takes one minutes to emit, the queue is well disciplined, Brit-style, and so it moves smoothly, with no waste of time.\n",
    "\n",
    "You will be given an array/list/vector with all the people queuing and the initial position of your buddy, so for example, knowing that your friend is in the third position (that we will consider equal to the index, 2 (3 in COBOL): he is the guy that wants 3 tickets!) and the initial queue is `[2, 5, 3, 4, 6]`.\n",
    "\n",
    "The first dude gets his ticket and the queue goes now like this `[5, 3, 4, 6, 1]`, then `[3, 4, 6, 1, 4]` and so on. In the end, our buddy will be queuing for 12 minutes, true story!\n",
    "\n",
    "Build a function to compute it, resting assured that only positive integers are going to be there and you will be always given a valid index; but we also want to go to pretty popular events, so be ready for big queues with people getting plenty of tickets."
   ]
  },
  {
   "cell_type": "code",
   "execution_count": 110,
   "metadata": {},
   "outputs": [
    {
     "name": "stdout",
     "output_type": "stream",
     "text": [
      "Initial Queue: [2, 5, 3, 4, 6]\n",
      "Target Position: 2 (0-based index)\n",
      "---\n",
      "Minute 1:\n",
      "  Queue before processing: [2, 5, 3, 4, 6]\n",
      "  Target Position: 2\n",
      "  First person takes a ticket. Tickets left for them: 1\n",
      "  First person still needs tickets. Moving them to the end of the queue.\n",
      "  Updated Target Position: 1\n",
      "  Queue after processing: [5, 3, 4, 6, 1]\n",
      "---\n",
      "Minute 2:\n",
      "  Queue before processing: [5, 3, 4, 6, 1]\n",
      "  Target Position: 1\n",
      "  First person takes a ticket. Tickets left for them: 4\n",
      "  First person still needs tickets. Moving them to the end of the queue.\n",
      "  Updated Target Position: 0\n",
      "  Queue after processing: [3, 4, 6, 1, 4]\n",
      "---\n",
      "Minute 3:\n",
      "  Queue before processing: [3, 4, 6, 1, 4]\n",
      "  Target Position: 0\n",
      "  First person takes a ticket. Tickets left for them: 2\n",
      "  First person still needs tickets. Moving them to the end of the queue.\n",
      "  Updated Target Position: 4\n",
      "  Queue after processing: [4, 6, 1, 4, 2]\n",
      "---\n",
      "Minute 4:\n",
      "  Queue before processing: [4, 6, 1, 4, 2]\n",
      "  Target Position: 4\n",
      "  First person takes a ticket. Tickets left for them: 3\n",
      "  First person still needs tickets. Moving them to the end of the queue.\n",
      "  Updated Target Position: 3\n",
      "  Queue after processing: [6, 1, 4, 2, 3]\n",
      "---\n",
      "Minute 5:\n",
      "  Queue before processing: [6, 1, 4, 2, 3]\n",
      "  Target Position: 3\n",
      "  First person takes a ticket. Tickets left for them: 5\n",
      "  First person still needs tickets. Moving them to the end of the queue.\n",
      "  Updated Target Position: 2\n",
      "  Queue after processing: [1, 4, 2, 3, 5]\n",
      "---\n",
      "Minute 6:\n",
      "  Queue before processing: [1, 4, 2, 3, 5]\n",
      "  Target Position: 2\n",
      "  First person takes a ticket. Tickets left for them: 0\n",
      "  First person is done. Removing them from the queue.\n",
      "  Updated Target Position: 1\n",
      "  Queue after processing: [4, 2, 3, 5]\n",
      "---\n",
      "Minute 7:\n",
      "  Queue before processing: [4, 2, 3, 5]\n",
      "  Target Position: 1\n",
      "  First person takes a ticket. Tickets left for them: 3\n",
      "  First person still needs tickets. Moving them to the end of the queue.\n",
      "  Updated Target Position: 0\n",
      "  Queue after processing: [2, 3, 5, 3]\n",
      "---\n",
      "Minute 8:\n",
      "  Queue before processing: [2, 3, 5, 3]\n",
      "  Target Position: 0\n",
      "  First person takes a ticket. Tickets left for them: 1\n",
      "  First person still needs tickets. Moving them to the end of the queue.\n",
      "  Updated Target Position: 3\n",
      "  Queue after processing: [3, 5, 3, 1]\n",
      "---\n",
      "Minute 9:\n",
      "  Queue before processing: [3, 5, 3, 1]\n",
      "  Target Position: 3\n",
      "  First person takes a ticket. Tickets left for them: 2\n",
      "  First person still needs tickets. Moving them to the end of the queue.\n",
      "  Updated Target Position: 2\n",
      "  Queue after processing: [5, 3, 1, 2]\n",
      "---\n",
      "Minute 10:\n",
      "  Queue before processing: [5, 3, 1, 2]\n",
      "  Target Position: 2\n",
      "  First person takes a ticket. Tickets left for them: 4\n",
      "  First person still needs tickets. Moving them to the end of the queue.\n",
      "  Updated Target Position: 1\n",
      "  Queue after processing: [3, 1, 2, 4]\n",
      "---\n",
      "Minute 11:\n",
      "  Queue before processing: [3, 1, 2, 4]\n",
      "  Target Position: 1\n",
      "  First person takes a ticket. Tickets left for them: 2\n",
      "  First person still needs tickets. Moving them to the end of the queue.\n",
      "  Updated Target Position: 0\n",
      "  Queue after processing: [1, 2, 4, 2]\n",
      "---\n",
      "Minute 12:\n",
      "  Queue before processing: [1, 2, 4, 2]\n",
      "  Target Position: 0\n",
      "  First person takes a ticket. Tickets left for them: 0\n",
      "  Target person is done! Total time: 12 minutes\n",
      "\n",
      "Final Result:\n",
      "Total time for target person to get all tickets: 12 minutes\n"
     ]
    }
   ],
   "source": [
    "def queue_time_counter(queue, position):\n",
    "    time = 0  # Initialize a counter for time\n",
    "\n",
    "    print(f\"Initial Queue: {queue}\")\n",
    "    print(f\"Target Position: {position} (0-based index)\")\n",
    "    print(\"---\")\n",
    "\n",
    "    while True:  # Loop until the target person is done\n",
    "        time += 1  # One minute passes as a ticket is issued\n",
    "        print(f\"Minute {time}:\")\n",
    "        print(f\"  Queue before processing: {queue}\")\n",
    "        print(f\"  Target Position: {position}\")\n",
    "\n",
    "        # Reduce the tickets needed for the first person\n",
    "        queue[0] -= 1\n",
    "        print(f\"  First person takes a ticket. Tickets left for them: {queue[0]}\")\n",
    "\n",
    "        # Check if the target person has received their last ticket\n",
    "        if position == 0 and queue[0] == 0:\n",
    "            print(f\"  Target person is done! Total time: {time} minutes\")\n",
    "            break\n",
    "\n",
    "        # Rotate the queue if the first person still needs tickets\n",
    "        if queue[0] > 0:\n",
    "            print(f\"  First person still needs tickets. Moving them to the end of the queue.\")\n",
    "            queue.append(queue.pop(0))\n",
    "        else:\n",
    "            print(f\"  First person is done. Removing them from the queue.\")\n",
    "            queue.pop(0)  # Remove the person if they are done\n",
    "\n",
    "        # Update the position of the target person\n",
    "        position = position - 1 if position > 0 else len(queue) - 1\n",
    "        print(f\"  Updated Target Position: {position}\")\n",
    "        print(f\"  Queue after processing: {queue}\")\n",
    "        print(\"---\")\n",
    "\n",
    "    return time\n",
    "\n",
    "if __name__ == \"__main__\":\n",
    "    # Example usage\n",
    "    queue = [2, 5, 3, 4, 6]\n",
    "    position = 2\n",
    "\n",
    "    result = queue_time_counter(queue, position)\n",
    "    print(\"\\nFinal Result:\")\n",
    "    print(f\"Total time for target person to get all tickets: {result} minutes\")"
   ]
  },
  {
   "cell_type": "markdown",
   "metadata": {},
   "source": [
    "**Explanation of the Code:**\n",
    "- The function `queue_time_counter` calculates the total time it takes for a specific person in a queue to get all their tickets.\n",
    "- The queue is represented as a list of integers, where each integer is the number of tickets a person needs.\n",
    "- The `position` parameter indicates the initial position of the target person in the queue (0-based index).\n",
    "\n",
    "**How It Works:**\n",
    "1. **Initialization:**\n",
    "   - `time` is initialized to `0` to keep track of the total time elapsed.\n",
    "2. **Processing the Queue:**\n",
    "   - For each minute (`time += 1`), the first person in the queue gets one ticket (`queue[0] -= 1`).\n",
    "   - If the first person is the target (`position == 0`) and they have no more tickets to get (`queue[0] == 0`), the loop breaks, and the total time is returned.\n",
    "3. **Rotating the Queue:**\n",
    "   - If the first person still needs more tickets (`queue[0] > 0`), they are moved to the end of the queue (`queue.append(queue.pop(0))`).\n",
    "   - If the first person is done (`queue[0] == 0`), they are removed from the queue (`queue.pop(0)`).\n",
    "4. **Updating the Target Position:**\n",
    "   - If the target person is not at the front of the queue, their position is updated (`position = position - 1 if position > 0 else len(queue) - 1`).\n",
    "\n",
    "**Example Usage:**\n",
    "- For the queue `[2, 5, 3, 4, 6]` and target position `2`:\n",
    "  - The target person needs `3` tickets and is initially in the 3rd position (index `2`).\n",
    "  - The function simulates the queue process and returns the total time taken for the target person to get all their tickets.\n",
    "  - Output: `12`.\n",
    "\n",
    "**Key Points:**\n",
    "- The function handles the queue rotation and ticket distribution efficiently.\n",
    "- It ensures the target person's position is updated correctly as the queue changes.\n",
    "- The loop continues until the target person receives all their tickets."
   ]
  }
 ],
 "metadata": {
  "colab": {
   "provenance": []
  },
  "kernelspec": {
   "display_name": "Python [conda env:base] *",
   "language": "python",
   "name": "conda-base-py"
  },
  "language_info": {
   "codemirror_mode": {
    "name": "ipython",
    "version": 3
   },
   "file_extension": ".py",
   "mimetype": "text/x-python",
   "name": "python",
   "nbconvert_exporter": "python",
   "pygments_lexer": "ipython3",
   "version": "3.12.7"
  },
  "vscode": {
   "interpreter": {
    "hash": "aee8b7b246df8f9039afb4144a1f6fd8d2ca17a180786b69acc140d282b71a49"
   }
  }
 },
 "nbformat": 4,
 "nbformat_minor": 4
}
